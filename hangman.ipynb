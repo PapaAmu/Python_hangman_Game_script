{
 "cells": [
  {
   "cell_type": "code",
   "execution_count": 5,
   "id": "5bc6cd21",
   "metadata": {},
   "outputs": [
    {
     "name": "stdout",
     "output_type": "stream",
     "text": [
      "_ _ _ _ _ _ \n",
      "Allowed guesses left 7, next guess : l\n",
      "_ _ _ _ _ _ \n",
      "Allowed guesses left 6, next guess : l\n",
      "_ _ _ _ _ _ \n",
      "Allowed guesses left 5, next guess : l\n",
      "_ _ _ _ _ _ \n",
      "Allowed guesses left 4, next guess : l\n",
      "_ _ _ _ _ _ \n",
      "Allowed guesses left 3, next guess : l\n",
      "_ _ _ _ _ _ \n",
      "Allowed guesses left 2, next guess : l\n",
      "_ _ _ _ _ _ \n",
      "Allowed guesses left 1, next guess : l\n",
      "Game over , the word was Secret\n"
     ]
    }
   ],
   "source": [
    "word =  \"Secret\"\n",
    "\n",
    "\n",
    "allowed_errors = 7\n",
    "guesses = []\n",
    "done = False\n",
    "\n",
    "while not done:\n",
    "    for letter in word:\n",
    "        if letter.lower() in guesses:\n",
    "            print(letter, end=\" \")\n",
    "        else:\n",
    "            print(\"_\", end=\" \")\n",
    "    print(\"\")\n",
    "#     done = True #test the code by adding elements on the array\n",
    "    \n",
    "    guess = input(f\"Allowed guesses left {allowed_errors}, next guess : \")\n",
    "    guesses.append(guess.lower())\n",
    "    if guess.lower() not in word.lower():\n",
    "        allowed_errors -= 1\n",
    "        if allowed_errors == 0:\n",
    "            break\n",
    "    \n",
    "    done = True\n",
    "    for letter in word:\n",
    "        if letter.lower() not in guesses:\n",
    "             done = False\n",
    "                \n",
    "if done:\n",
    "    print(f\"You found the word! It was : {word}! \")\n",
    "else:\n",
    "    print(f\"Game over , the word was {word}\")\n",
    "    \n",
    "    \n",
    "    "
   ]
  },
  {
   "cell_type": "code",
   "execution_count": null,
   "id": "c9f45b3c",
   "metadata": {},
   "outputs": [],
   "source": []
  }
 ],
 "metadata": {
  "kernelspec": {
   "display_name": "Python 3 (ipykernel)",
   "language": "python",
   "name": "python3"
  },
  "language_info": {
   "codemirror_mode": {
    "name": "ipython",
    "version": 3
   },
   "file_extension": ".py",
   "mimetype": "text/x-python",
   "name": "python",
   "nbconvert_exporter": "python",
   "pygments_lexer": "ipython3",
   "version": "3.10.6"
  }
 },
 "nbformat": 4,
 "nbformat_minor": 5
}
